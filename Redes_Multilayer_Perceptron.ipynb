{
 "metadata": {
  "language_info": {
   "codemirror_mode": {
    "name": "ipython",
    "version": 3
   },
   "file_extension": ".py",
   "mimetype": "text/x-python",
   "name": "python",
   "nbconvert_exporter": "python",
   "pygments_lexer": "ipython3",
   "version": 3
  },
  "orig_nbformat": 2
 },
 "nbformat": 4,
 "nbformat_minor": 2,
 "cells": [
  {
   "source": [
    "# Redes *Perceptron* Multicamadas (PMC ou MLP)\n",
    "\n",
    "## Origem: Rede Perceptron\n",
    "\n",
    "Desenvolvida por Rosenblatt em 1958, é a estrutura mais simples para uma rede neural artificial e sua criação objetivava que a rede identificasse padrões geométricos. A rede *Perceptron* pertence à arquitetura *feedfoward*, pois o fluxo de informações parte da camada de entrada em direção à camada de saída, sem qualquer tipo de realimentação. Sua simplicidade reside no fato de possuir uma única camada constítuida por um neurônio. A Figura 1 é uma representação dessa rede com *n* variáveis (*x<sub>i</sub>*) e *n* pesos (*w<sub>i</sub>*). O único neurônio recebe o somatório das entradas ponderadas e compara com o limiar de ativação (&theta;).\n",
    "\n",
    "<p align=\"center\"><img src=\"https://image.prntscr.com/image/el5E-lPWR7uAUyRwyNTq0w.png\"></p>\n",
    "\n",
    "<div text-align=\"center\">*Figura 1. Rede Perceptron*</div>\n",
    "&nbsp;\n",
    "\n",
    "Na figura acima foi atribuido um peso negativo fictício (*w<sub>0</sub>*) ao limiar de ativação apenas para cálculo do potencial de ativação (*u*). Esse potencial é a variável da função de ativação (*g(u)*) que retorna a única saída (*y*). Matematicamente temos a seguinte representação:\n",
    "\n",
    "$ u = \\sum_{i=1}^{n} w_i x_i - \\theta $\n",
    "\n",
    "$ y = g(u) $\n",
    "\n",
    "As funções de ativação, geralmente, aplicadas às redes perceptron são a função degrau (*heavside function*) ou a função degrau bipolar. Ambas são funções descontínuas e que resultam em um valor ou outro. Por exemplo, a função degrau é igual a 0, se o seu argumento *u* é menor do que 0, **ou** igual a 1, se *u* é maior do que zero. O mesmo acontece para a função degrau bipolar, porém, os valores são -1 e 1. Logo, pode-se dizer que problemas que utilizam redes perceptron são problemas que tem como resposta sim ou não, ou generalizando, *opção A* ou *opção B*. Em termos matemáticos para a função degrau, temos:"
   ],
   "cell_type": "markdown",
   "metadata": {}
  }
 ]
}